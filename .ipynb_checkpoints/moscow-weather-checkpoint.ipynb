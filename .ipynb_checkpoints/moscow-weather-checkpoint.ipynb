{
 "cells": [
  {
   "cell_type": "markdown",
   "metadata": {},
   "source": [
    "# Сбор текста из веба\n",
    "\n",
    "# Составление прогноза погоды"
   ]
  },
  {
   "cell_type": "code",
   "execution_count": 156,
   "metadata": {
    "collapsed": true
   },
   "outputs": [],
   "source": [
    "import re\n",
    "from nltk import tokenize\n",
    "from nltk.corpus import stopwords\n",
    "from pymystem3 import Mystem\n",
    "# -*- coding: utf-8 -*-\n",
    "#from __future__ import unicode_literals"
   ]
  },
  {
   "cell_type": "code",
   "execution_count": 157,
   "metadata": {
    "collapsed": true
   },
   "outputs": [],
   "source": [
    "import pandas as pd\n",
    "from datetime import datetime, timedelta\n",
    "import re\n",
    "import urllib.request\n",
    "\n",
    "from scrapy.selector import Selector\n",
    "from scrapy.http import HtmlResponse\n",
    "from tqdm import tqdm"
   ]
  },
  {
   "cell_type": "code",
   "execution_count": null,
   "metadata": {
    "collapsed": true
   },
   "outputs": [],
   "source": []
  },
  {
   "cell_type": "markdown",
   "metadata": {},
   "source": [
    "GEN_URLS функция генерирует url для текущего дня и предыдущего."
   ]
  },
  {
   "cell_type": "code",
   "execution_count": 3,
   "metadata": {
    "collapsed": true
   },
   "outputs": [],
   "source": [
    "month_dict = {1:'january',2: 'february', \n",
    "              3:'march',4:'april',5: 'may', \n",
    "              6:'june',7 :'july', 8:'august', \n",
    "              9:'september',10: 'oktober',11: 'november',12: 'december' }\n",
    "\n",
    "# Scraping weather pages fщаr distinct cities\n",
    "# \n",
    "def gen_urls():\n",
    "    curr_date = datetime.now()\n",
    "    prev_date = curr_date - timedelta(1)\n",
    "    # list of weather urls\n",
    "    urls = []\n",
    "    urls.append('https://weather.rambler.ru/v-moskve/' + str(curr_date.day) + '-' + str(month_dict[curr_date.month]))\n",
    "    urls.append('https://weather.rambler.ru/v-moskve/'+ str(prev_date.day) + '-' + str(month_dict[prev_date.month]))\n",
    "    return urls"
   ]
  },
  {
   "cell_type": "code",
   "execution_count": null,
   "metadata": {
    "collapsed": true
   },
   "outputs": [],
   "source": []
  },
  {
   "cell_type": "markdown",
   "metadata": {},
   "source": [
    "GET_DATA собирает табличные данные для погоды"
   ]
  },
  {
   "cell_type": "code",
   "execution_count": 115,
   "metadata": {},
   "outputs": [
    {
     "name": "stdout",
     "output_type": "stream",
     "text": [
      "[[['90'], ['1'], ['743'], ['08', '59'], ['16', '04'], ['7', '5'], [], ['0']], [['0'], ['4'], ['747'], ['08', '59'], ['16', '03'], ['7', '4'], [], ['0']]]\n",
      "1\n"
     ]
    }
   ],
   "source": [
    "def get_data():\n",
    "    header , clouds, degrees, wind, all_data = [] , [], [], [], []\n",
    "    wh_urls = gen_urls() # ищем \n",
    "    for url in wh_urls:\n",
    "        print(url)\n",
    "        req = urllib.request.Request(url)\n",
    "        html = urllib.request.urlopen(url)\n",
    "        html = html.read()\n",
    "        header.append(Selector(text=html).xpath(u'//h1[@class=\"weather-detailed__title\"]/text()').extract())\n",
    "        clouds.append(Selector(text=html).xpath('//div[@class=\"weather-now\"]/i/@title').extract())\n",
    "        degrees.append(Selector(text=html).xpath('//span[@class=\"weather-now__value\"]/text()').extract())\n",
    "        all_data.append(Selector(text=html).xpath('//span[@class=\"weather-parameters__note\"]/text()').extract())\n",
    "        \n",
    "    # соберем числовые данные из паука    \n",
    "    \n",
    "    num_data, hdr_clean = list(), list()\n",
    "    pattern_num = re.compile('[0-9]+')\n",
    "    pattern_hdr = re.compile('[А-Яа-я0-9]+')\n",
    "    pattern_wind = re.compile('[а-я-]+')\n",
    "    \n",
    "        \n",
    "    for i in all_data:\n",
    "        num_data_temp = list()\n",
    "        #hdr_clean.append(pattern_hdr.findall(i))\n",
    "        for j in i:\n",
    "            num_data_temp.append(pattern_num.findall(j))\n",
    "        tokens = pattern_wind.findall(i[1])\n",
    "        wind.append(tokens[0])\n",
    "        num_data.append(num_data_temp)\n",
    "    \n",
    "    tokens = pattern_hdr.findall(header[0][0])\n",
    "    article_hdr = ' '.join([i for i in tokens])\n",
    "    \n",
    "    return article_hdr, clouds, degrees, wind, num_data\n",
    "    \n",
    "\n",
    "hdr, cld, deg, wnd, num_data = get_data()\n",
    "#print(num_data)\n",
    "#print(deg[0][0])\n",
    "#print(h)\n"
   ]
  },
  {
   "cell_type": "code",
   "execution_count": null,
   "metadata": {
    "collapsed": true
   },
   "outputs": [],
   "source": []
  },
  {
   "cell_type": "markdown",
   "metadata": {},
   "source": [
    "функция генерации нужных форм слов для подстановки во фразы"
   ]
  },
  {
   "cell_type": "code",
   "execution_count": 154,
   "metadata": {},
   "outputs": [],
   "source": [
    "# выбросили сокращения lexems[i][4][0][1] not in less_form\n",
    "# 'gen2' и 'loc2' not in lexems[i].tag -  выбросила формы слова для слова \"час\"\n",
    "\n",
    "import pymorphy2\n",
    "morph = pymorphy2.MorphAnalyzer()\n",
    "def generate_forms(word, less_form):\n",
    "    p = morph.parse(word)[0]\n",
    "    res = []\n",
    "    lexems = p.lexeme\n",
    " \n",
    "    if ('NOUN' in p.tag):\n",
    "        for i in range(len(lexems)):\n",
    "            #print(lexems[i])\n",
    "            if (lexems[i][4][0][1] not in less_form) & (('gen2' not in lexems[i].tag ) & ('loc2' not in lexems[i].tag )) &\\\n",
    "                (('Litr' not in lexems[i].tag ) & ('Infr' not in lexems[i].tag )) & ('V-be' not in lexems[i].tag ):\n",
    "                #print( lexems[i].tag)\n",
    "                #print(lexems[i])\n",
    "                res.append(lexems[i][4][0][1])\n",
    "        if 'femn' in p.tag:\n",
    "            res1 = res[:5]\n",
    "            res1.append(res[6])\n",
    "            res1.extend(res[7:])\n",
    "            res1.extend(res1[6:])\n",
    "            return(res1)\n",
    "        else:\n",
    "            res.extend(res[6:])\n",
    "            return(res)\n",
    "    if 'VERB' in p.tag or 'INFN' in p.tag:\n",
    "        for i in [0,1,3,2,4,5,6,7,8,9]:\n",
    "            res.append(lexems[i][4][0][1])\n",
    "        return(res)\n",
    "    if 'ADJF' in p.tag:\n",
    "        for i in range(18):\n",
    "            res.append(lexems[i][4][0][1])\n",
    "        return(res)\n",
    "    \n",
    "#a = generate_forms('минута','')\n",
    "#print(len(a), a)\n",
    "# градус, минута, миллиметр, час, пункт, метр в секунду, процент"
   ]
  },
  {
   "cell_type": "code",
   "execution_count": null,
   "metadata": {
    "collapsed": true
   },
   "outputs": [],
   "source": []
  },
  {
   "cell_type": "markdown",
   "metadata": {},
   "source": [
    "GEN_NOUN_W функция создает существительные для словаря UTG"
   ]
  },
  {
   "cell_type": "code",
   "execution_count": 160,
   "metadata": {
    "collapsed": true
   },
   "outputs": [],
   "source": [
    "# функция создает существительное для словаря \n",
    "def gen_noun_w(word, less, gender):\n",
    "    if gender == 'masculine':        \n",
    "        noun_word = words.Word(type=r.WORD_TYPE.NOUN,\n",
    "                                    forms=generate_forms(word, less),\n",
    "                                    properties=words.Properties(r.ANIMALITY.INANIMATE, r.GENDER.MASCULINE)) \n",
    "    if gender == 'feminine': \n",
    "        noun_word = words.Word(type=r.WORD_TYPE.NOUN,\n",
    "                                    forms=generate_forms(word, less),\n",
    "                                    properties=words.Properties(r.ANIMALITY.INANIMATE, r.GENDER.FEMININE)) \n",
    "    else:\n",
    "        noun_word = words.Word(type=r.WORD_TYPE.NOUN,\n",
    "                                    forms=generate_forms(word, less),\n",
    "                                    properties=words.Properties(r.ANIMALITY.INANIMATE, r.GENDER.NEUTER)) \n",
    "    return noun_word"
   ]
  },
  {
   "cell_type": "code",
   "execution_count": null,
   "metadata": {
    "collapsed": true
   },
   "outputs": [],
   "source": []
  },
  {
   "cell_type": "markdown",
   "metadata": {},
   "source": [
    "GEN_ACTION_W функция создает глаголы словаря UTG"
   ]
  },
  {
   "cell_type": "code",
   "execution_count": 7,
   "metadata": {
    "collapsed": true
   },
   "outputs": [],
   "source": [
    "def gen_action_w(word):\n",
    "    action_word = words.Word(type=r.WORD_TYPE.VERB,\n",
    "                         # описываем только нужны нам формы слова (порядок важен и определён в \n",
    "                         #utg.data.WORDS_CACHES[r.WORD_TYPE.VERB])\n",
    "                         forms=generate_forms(word,'') + [u''] * (len(data.WORDS_CACHES[r.WORD_TYPE.VERB]) - 10),\n",
    "                         properties=words.Properties(r.ASPECT.PERFECTIVE, r.VOICE.DIRECT) )\n",
    "    return action_word"
   ]
  },
  {
   "cell_type": "code",
   "execution_count": 8,
   "metadata": {
    "collapsed": true
   },
   "outputs": [],
   "source": [
    "from utg import relations as r\n",
    "from utg import logic\n",
    "from utg import data\n",
    "from utg import dictionary\n",
    "from utg import words\n",
    "from utg import templates\n",
    "from utg import constructors"
   ]
  },
  {
   "cell_type": "code",
   "execution_count": null,
   "metadata": {
    "collapsed": true
   },
   "outputs": [],
   "source": []
  },
  {
   "cell_type": "markdown",
   "metadata": {
    "collapsed": true
   },
   "source": [
    "добавим нужные в работе словари"
   ]
  },
  {
   "cell_type": "code",
   "execution_count": 10,
   "metadata": {
    "collapsed": true
   },
   "outputs": [],
   "source": [
    "# градусы, проценты, ветер? м/с , миллиметров, часов, секунд, пунктов\n",
    "# номер ключа соответствует номеру предложения.\n",
    "noun_dict = {0: ('градус','', 'masculine'),\n",
    "             1: ('процент','', 'masculine'),\n",
    "             2: ('метр', 'м', 'masculine'),\n",
    "             3: ('миллиметр', 'мм', 'masculine'),\n",
    "                4: ('час', 'ч', 'masculine'),\n",
    "                5: ('минута', '', 'feminine'),\n",
    "                6: ('пункт', 'п', 'masculine')} # секунда, минута"
   ]
  },
  {
   "cell_type": "code",
   "execution_count": 11,
   "metadata": {
    "collapsed": true
   },
   "outputs": [],
   "source": [
    "action_dict = {0: ('составлять',''), \n",
    "               1: ('дуть',''),\n",
    "               2: ('повыситься',''),\n",
    "               3: ('понизиться',''),\n",
    "               4: ('взойти',''),\n",
    "               5: ('сесть',''),\n",
    "               6: ('длиться','')}"
   ]
  },
  {
   "cell_type": "code",
   "execution_count": 139,
   "metadata": {
    "collapsed": true
   },
   "outputs": [],
   "source": [
    "subj_dict = {0: ('температура',''),\n",
    "             1: ('вероятность',''),\n",
    "             2: ('ветер',''), \n",
    "             3: ('давление',''),\n",
    "             4: ('солнце',''),\n",
    "             5: ('солнце',''),\n",
    "             6: ('длина',''),\n",
    "             7: ('индекс',''),\n",
    "             8: ('сила',''), \n",
    "             9: ('день','')}\n",
    "\n",
    "obj_dict = {0: 'воздух',\n",
    "            1: 'осадка', \n",
    "            2: 'сила', \n",
    "            3: 'столб',\n",
    "            4: 'ветер', # участвует в сравнении\n",
    "            6: 'день'}\n"
   ]
  },
  {
   "cell_type": "code",
   "execution_count": null,
   "metadata": {
    "collapsed": true
   },
   "outputs": [],
   "source": []
  },
  {
   "cell_type": "markdown",
   "metadata": {},
   "source": [
    "создаём словарь для использования в шаблонах"
   ]
  },
  {
   "cell_type": "code",
   "execution_count": 52,
   "metadata": {},
   "outputs": [
    {
     "name": "stdout",
     "output_type": "stream",
     "text": [
      "done \n",
      "\n"
     ]
    }
   ],
   "source": [
    "\n",
    "#test_dictionary = dictionary.Dictionary(words=[noun_word, action_word])\n",
    "\n",
    "test_dictionary = dictionary.Dictionary()\n",
    "for i in range(0, 7):           \n",
    "   \n",
    "    noun_word = gen_noun_w(noun_dict[i][0], noun_dict[i][1], noun_dict[i][2])\n",
    "    action_word = gen_action_w(action_dict[i][0])\n",
    "    test_dictionary.add_word(word=noun_word)\n",
    "    test_dictionary.add_word(word=action_word)\n",
    "print('done \\n')"
   ]
  },
  {
   "cell_type": "code",
   "execution_count": null,
   "metadata": {
    "collapsed": true
   },
   "outputs": [],
   "source": []
  },
  {
   "cell_type": "markdown",
   "metadata": {},
   "source": [
    "используя средства UTG конструируем фразы, создаем прогноз погоды на сегодня"
   ]
  },
  {
   "cell_type": "code",
   "execution_count": 53,
   "metadata": {},
   "outputs": [
    {
     "name": "stdout",
     "output_type": "stream",
     "text": [
      "Погода в Москве на 30 декабря 2017 года\n",
      "\n",
      "Температура воздуха составляет 1 градус.\n",
      "Снег с дождем, вероятность осадков 90 процентов.\n",
      "Дует юго-восточный ветер силой 4 метра в секунду.\n",
      "Давление составляет 744 миллиметра ртутного столба.\n",
      "Солнце взошло в 8 часов 59 минут.\n",
      "Солнце сядет в 16 часов 4 минуты.\n",
      "Длина дня составляет 7 часов 5 минут.\n",
      "UV-индекс составляет 0 пунктов.\n"
     ]
    }
   ],
   "source": [
    "# описываем существительные для словаря, неодушевленное, мужской род, женский род\n",
    "# существительные из словаря noun_dict\n",
    "\n",
    "for i in range(0, 8): \n",
    "    hdr, cld, deg, wnd, num_data = get_data()  \n",
    "    delta = 0\n",
    " \n",
    "    # создаём шаблон\n",
    "    template = templates.Template()\n",
    "    template_yst = templates.Template()\n",
    "    \n",
    "    # шаблоны предложений \n",
    "    # температура\n",
    "    if i == 0: \n",
    "        print(hdr +' года' + '\\n')\n",
    "        #delta = int(deg[0][0])-int(deg[1][0])\n",
    "        template.parse(u'[Subj] [obj|рд] [составляет|subj] [wth_num] [градус|wth_num|вн].', \\\n",
    "                   externals=('subj', 'obj', 'wth_num'))\n",
    "          \n",
    "            \n",
    "    #влажность\n",
    "    if i == 1:\n",
    "        template.parse(u'' + cld[0][0] +', [subj] осадков [wth_num] [процент|wth_num|вн].', \\\n",
    "            externals=('subj', 'obj', 'wth_num'))\n",
    "        \n",
    "    #ветер \n",
    "    if i == 2:\n",
    "        template.parse(u'[Дует|subj] ' + wnd[0] + ' [subj] [obj|тв] [wth_num] [метр|wth_num|вн] в секунду.',\\\n",
    "                       externals= ('subj', 'obj', 'wth_num'))\n",
    "    \n",
    "    #давление\n",
    "    if i == 3:\n",
    "        template.parse(u'[Subj] [составляет|subj] [wth_num] [миллиметр|wth_num|вн] ртутного [obj|рд].',\\\n",
    "                       externals=('subj', 'obj', 'wth_num'))\n",
    "    #Восход\n",
    "    if i == 4:\n",
    "        template.parse(u'[Subj] [взошло|subj] в [wth_num1] [час|wth_num1|рд] [wth_num2] [минута|wth_num2|рд].',\\\n",
    "                       externals=('subj', 'wth_num1', 'wth_num2'))\n",
    "    \n",
    "    #Закат\n",
    "    if i == 5:\n",
    "        template.parse(u'[Subj] [сядет|subj] в [wth_num1] [час|wth_num1|рд] [wth_num2] [минута|wth_num2|вн].',\\\n",
    "                       externals=('subj', 'wth_num1', 'wth_num2'))\n",
    "    \n",
    "    #долгота дня\n",
    "    if i ==6:\n",
    "        template.parse(u'[Subj] [obj|рд] [составляет|subj] [wth_num1] [час|wth_num1|рд] [wth_num2] [минут|wth_num2|вн].', \n",
    "                       externals=('subj', 'obj', 'wth_num1', 'wth_num2'))\n",
    "    \n",
    "    #УФ-индекс\n",
    "    if i == 7:\n",
    "        template.parse(u'UV-[subj] [составляет|subj] [wth_num] [пункт|wth_num|вн].', \\\n",
    "                       externals=('subj', 'wth_num'))\n",
    "             \n",
    "    ### subjects     \n",
    "    \n",
    "    if i in (0, 3) :\n",
    "        subj = words.WordForm(words.Word(type=r.WORD_TYPE.NOUN, forms=generate_forms(subj_dict[i][0],''),\n",
    "                                     properties=words.Properties(r.ANIMALITY.INANIMATE, r.GENDER.FEMININE)))\n",
    "    \n",
    "    if i == 1:\n",
    "        subj = words.WordForm(words.Word(type=r.WORD_TYPE.NOUN,\n",
    "                                forms=generate_forms(subj_dict[i][0],'')+['']*2,\n",
    "                                properties=words.Properties(r.ANIMALITY.INANIMATE, r.GENDER.FEMININE)))\n",
    "    \n",
    "    if i in (2,6,7):\n",
    "        subj = words.WordForm(words.Word(type=r.WORD_TYPE.NOUN,\n",
    "                                forms=generate_forms(subj_dict[i][0],''),\n",
    "                                properties=words.Properties(r.ANIMALITY.INANIMATE, r.GENDER.MASCULINE)))\n",
    "    if i == 4:\n",
    "        subj = words.WordForm(words.Word(type=r.WORD_TYPE.NOUN,\n",
    "                                forms=generate_forms(subj_dict[i][0],''),\n",
    "                                properties=words.Properties(r.ANIMALITY.INANIMATE, r.GENDER.NEUTER)))        \n",
    "        \n",
    "        \n",
    "       \n",
    "    ###### objects\n",
    "    if i in (0, 1, 3, 6):\n",
    "        obj = words.WordForm(words.Word(type=r.WORD_TYPE.NOUN,\n",
    "                                forms=generate_forms(obj_dict[i],''),\n",
    "                                 properties=words.Properties(r.ANIMALITY.INANIMATE, r.GENDER.MASCULINE)))\n",
    "\n",
    "    if i == 2:\n",
    "        obj = words.WordForm(words.Word(type=r.WORD_TYPE.NOUN,\n",
    "                                forms=generate_forms(obj_dict[i],''),\n",
    "                                 properties=words.Properties(r.ANIMALITY.INANIMATE, r.GENDER.FEMININE)))\n",
    "        \n",
    "    \n",
    "    \n",
    "    if i == 0:\n",
    "        prognoz_num = int(deg[0][0])\n",
    "    if i in (1, 2, 3):\n",
    "        prognoz_num = int(num_data[0][i-1][0])\n",
    "    if i in (4, 5, 6):\n",
    "        prognoz_num1 = int(num_data[0][i-1][0])\n",
    "        prognoz_num2 = int(num_data[0][i-1][1])\n",
    "    if i == 7:\n",
    "        prognoz_num = int(num_data[0][i][0])\n",
    "        \n",
    "    \n",
    "    if i in (0, 1, 2, 3) :\n",
    "        result = template.substitute(externals={'subj': subj, 'obj': obj,\n",
    "                                                'wth_num': constructors.construct_integer(prognoz_num)},\n",
    "                                     dictionary = test_dictionary)\n",
    "    \n",
    "    if i in (4, 5):\n",
    "        result = template.substitute(externals={'subj':subj, \n",
    "                                                'wth_num1':constructors.construct_integer(prognoz_num1),\n",
    "                                               'wth_num2':constructors.construct_integer(prognoz_num2)}, \n",
    "                                     dictionary = test_dictionary)\n",
    "    if i == 6:\n",
    "        result = template.substitute(externals={'subj':subj, 'obj':obj,\n",
    "                                                'wth_num1':constructors.construct_integer(prognoz_num1),\n",
    "                                               'wth_num2':constructors.construct_integer(prognoz_num2)}, \n",
    "                                     dictionary = test_dictionary)   \n",
    "    if i == 7:\n",
    "        result = template.substitute(externals={'subj': subj,\n",
    "                                                'wth_num': constructors.construct_integer(prognoz_num)},\n",
    "                                     dictionary = test_dictionary)\n",
    "\n",
    "\n",
    "    print(result)\n"
   ]
  },
  {
   "cell_type": "code",
   "execution_count": null,
   "metadata": {
    "collapsed": true
   },
   "outputs": [],
   "source": []
  },
  {
   "cell_type": "markdown",
   "metadata": {},
   "source": [
    "# Сравниваем с предыдущим днем"
   ]
  },
  {
   "cell_type": "markdown",
   "metadata": {},
   "source": [
    "словарь слов для UTG при сравнении"
   ]
  },
  {
   "cell_type": "code",
   "execution_count": 153,
   "metadata": {},
   "outputs": [
    {
     "name": "stdout",
     "output_type": "stream",
     "text": [
      "done \n",
      "\n"
     ]
    }
   ],
   "source": [
    "deltadict = dictionary.Dictionary()\n",
    "for i in range(0, 7):           \n",
    "   \n",
    "    noun_word = gen_noun_w(noun_dict[i][0], noun_dict[i][1], noun_dict[i][2])\n",
    "    action_word = gen_action_w(action_dict[i][0])\n",
    "    deltadict.add_word(word=noun_word)\n",
    "    deltadict.add_word(word=action_word)\n",
    "print('done \\n')"
   ]
  },
  {
   "cell_type": "markdown",
   "metadata": {},
   "source": [
    "IS_THE_WTH_BETTER_TODAY функция сравнивает погоду с предыдущим днем"
   ]
  },
  {
   "cell_type": "code",
   "execution_count": 150,
   "metadata": {},
   "outputs": [],
   "source": [
    "def is_the_wth_better_today():\n",
    "    hdr, cld, deg, wnd, num_data = get_data()\n",
    "    \n",
    "    template_yst = templates.Template()\n",
    "    template_w = templates.Template()\n",
    "    template_p = templates.Template()\n",
    "    template_d = templates.Template()\n",
    "    \n",
    "    for i in (0, 2, 3, 6):\n",
    "        delta = 0\n",
    "    \n",
    "        #температура\n",
    "        if i == 0:\n",
    "            delta = int(deg[0][0]) - int(deg[1][0])\n",
    "            \n",
    "            subj = words.WordForm(words.Word(type=r.WORD_TYPE.NOUN, forms=generate_forms(subj_dict[i][0],''),\n",
    "                                properties=words.Properties(r.ANIMALITY.INANIMATE, r.GENDER.FEMININE)))            \n",
    "            \n",
    "            \n",
    "            if delta > 0:\n",
    "                temp_str = '[повысилась'\n",
    "                \n",
    "                template_yst.parse(u'Сегодня [subj] '+ temp_str +'|subj] на [delta] [градус|delta|вн].', \\\n",
    "                       externals=('subj', 'delta'))\n",
    "\n",
    "                result = template_yst.substitute(externals={'subj': subj, \n",
    "                                                        'delta' : constructors.construct_integer(abs(delta))}, \n",
    "                                             dictionary = deltadict)                \n",
    "                \n",
    "            if delta < 0:\n",
    "                temp_str = '[понизилась'\n",
    "                \n",
    "                template_yst.parse(u'Сегодня [subj] '+ temp_str +'|subj] на [delta] [градус|delta|вн].', \\\n",
    "                       externals=('subj', 'delta'))\n",
    "\n",
    "                result = template_yst.substitute(externals={'subj': subj, \n",
    "                                                        'delta' : constructors.construct_integer(abs(delta))}, \n",
    "                                             dictionary = deltadict) \n",
    "                \n",
    "            if delta == 0: \n",
    "                pint('Сегодня температура воздуха не изменилась.\\n',)\n",
    "\n",
    "            \n",
    "        # ветер  \n",
    "        if i == 2:\n",
    "            delta = int(num_data[0][i-1][0]) - int(num_data[1][i-1][0])\n",
    "            \n",
    "        \n",
    "            subj = words.WordForm(words.Word(type=r.WORD_TYPE.NOUN, forms=generate_forms(subj_dict[i+6][0],''),\n",
    "                                     properties=words.Properties(r.ANIMALITY.INANIMATE, r.GENDER.FEMININE)))\n",
    "        \n",
    "            obj = words.WordForm(words.Word(type=r.WORD_TYPE.NOUN,\n",
    "                                forms=generate_forms(obj_dict[i+2],''),\n",
    "                                 properties=words.Properties(r.ANIMALITY.INANIMATE, r.GENDER.MASCULINE)))            \n",
    "            \n",
    "            if delta > 0:\n",
    "                temp_str = 'увеличилась'\n",
    "                \n",
    "                template_w.parse(u'[Subj] [obj|рд] ' + temp_str + 'на [delta] [метр|delta|вн] в секунду.', \n",
    "                                 externals= ('subj', 'obj', 'delta'))        \n",
    "                result = template_w.substitute(externals = {'subj': subj, 'obj': obj,\n",
    "                                                           'delta': constructors.construct_integer(abs(delta))}, dictionary = deltadict)     \n",
    "                \n",
    "                \n",
    "            if delta < 0:\n",
    "                temp_str = 'уменьшилась'\n",
    "                \n",
    "                template_w.parse(u'[Subj] [obj|рд] ' + temp_str + ' на [delta] [метр|delta|вн] в секунду.', \n",
    "                                 externals= ('subj', 'obj', 'delta'))        \n",
    "                result = template_w.substitute(externals = {'subj': subj, 'obj': obj, \n",
    "                                                            'delta': constructors.construct_integer(abs(delta))}, dictionary = deltadict)                  \n",
    "                \n",
    "            if delta == 0: \n",
    "                print('Сила ветра не изменилась. \\n')\n",
    "                \n",
    "    \n",
    "       \n",
    "    \n",
    "    \n",
    "        #давление\n",
    "        if i == 3:            \n",
    "            delta = int(num_data[0][i-1][0]) - int(num_data[1][i-1][0])\n",
    "            \n",
    "            subj = words.WordForm(words.Word(type=r.WORD_TYPE.NOUN, forms=generate_forms(subj_dict[i][0],''),properties=words.Properties(r.ANIMALITY.INANIMATE, r.GENDER.NEUTER)))\n",
    "            \n",
    "            obj = words.WordForm(words.Word(type=r.WORD_TYPE.NOUN, forms=generate_forms(obj_dict[i],''),\n",
    "                                 properties=words.Properties(r.ANIMALITY.INANIMATE, r.GENDER.MASCULINE)))              \n",
    "            \n",
    "            \n",
    "            if delta > 0:\n",
    "                temp_str = '[повысилось'\n",
    "                \n",
    "                template_p.parse('[Subj] '+ temp_str +'|subj] на [delta] [миллиметр|delta|вн] ртутного [obj|рд].', \n",
    "                             externals=('subj', 'delta', 'obj'))         \n",
    "            \n",
    "                result = template_p.substitute(externals={'subj': subj, \n",
    "                                                      'obj' : obj,\n",
    "                                                     'delta': constructors.construct_integer(abs(delta))}, dictionary = deltadict)\n",
    "                \n",
    "            if delta < 0:\n",
    "                temp_str = '[понизилось'\n",
    "                \n",
    "                template_p.parse('[Subj] '+ temp_str +'|subj] на [delta] [миллиметр|delta|вн] ртутного [obj|рд].', \n",
    "                             externals=('subj', 'delta', 'obj'))         \n",
    "            \n",
    "                result = template_p.substitute(externals={'subj': subj, \n",
    "                                                      'obj' : obj,\n",
    "                                                     'delta': constructors.construct_integer(abs(delta))}, dictionary = deltadict)\n",
    "                \n",
    "            if delta == 0:\n",
    "                print('Давление не изменилось. \\n')\n",
    "            \n",
    "           \n",
    "            \n",
    "        if i == 6:\n",
    "            delta = (int(num_data[0][i-1][0])-int(num_data[1][i-1][0]))*60 + \\\n",
    "            (int(num_data[0][i-1][1]) - int(num_data[1][i-1][1]))\n",
    "            \n",
    "            subj = words.WordForm(words.Word(type=r.WORD_TYPE.NOUN,\n",
    "                                forms=generate_forms(subj_dict[i+3][0],''),\n",
    "                                properties=words.Properties(r.ANIMALITY.INANIMATE, r.GENDER.MASCULINE)))\n",
    "            \n",
    "            if delta>0:\n",
    "                temp_str = 'увеличился'\n",
    "                \n",
    "                template_d.parse('Световой [subj] '+ temp_str +' на [delta] [минута|delta|вн].', \n",
    "                             externals = {'subj', 'delta'})\n",
    "                result = template_d.substitute(externals = {'subj': subj, \n",
    "                                                            'delta' : constructors.construct_integer(abs(delta))},\n",
    "                                              dictionary = deltadict)\n",
    "                \n",
    "                \n",
    "            if delta < 0:\n",
    "                temp_str = 'уменьшился'\n",
    "                \n",
    "                template_d.parse('Световой [subj] '+ temp_str +' на [delta] [минута|delta|вн].', \n",
    "                             externals = {'subj', 'delta'})\n",
    "                result = template_d.substitute(externals = {'subj': subj, \n",
    "                                                            'delta' : constructors.construct_integer(abs(delta))},\n",
    "                                              dictionary = deltadict)               \n",
    "                \n",
    "                \n",
    "            if delta == 0:\n",
    "                print('Длина светового дня не изменилась. \\n')          \n",
    "\n",
    "            \n",
    "        print(result)"
   ]
  },
  {
   "cell_type": "code",
   "execution_count": 151,
   "metadata": {},
   "outputs": [
    {
     "name": "stdout",
     "output_type": "stream",
     "text": [
      "Сегодня температура понизилась на 2 градуса.\n",
      "Сила ветра уменьшилась на 3 метра в секунду.\n",
      "Давление понизилось на 4 миллиметра ртутного столба.\n",
      "Световой день увеличился на 1 минуту.\n"
     ]
    }
   ],
   "source": [
    "is_the_wth_better_today()"
   ]
  }
 ],
 "metadata": {
  "kernelspec": {
   "display_name": "Python 3",
   "language": "python",
   "name": "python3"
  },
  "language_info": {
   "codemirror_mode": {
    "name": "ipython",
    "version": 3
   },
   "file_extension": ".py",
   "mimetype": "text/x-python",
   "name": "python",
   "nbconvert_exporter": "python",
   "pygments_lexer": "ipython3",
   "version": "3.6.2"
  }
 },
 "nbformat": 4,
 "nbformat_minor": 2
}
